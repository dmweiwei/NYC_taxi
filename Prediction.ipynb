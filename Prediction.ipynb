{
 "cells": [
  {
   "cell_type": "markdown",
   "metadata": {},
   "source": [
    "### prédire la durée du trajet"
   ]
  },
  {
   "cell_type": "code",
   "execution_count": 2,
   "metadata": {},
   "outputs": [],
   "source": [
    "import numpy as np\n",
    "import pandas as pd"
   ]
  },
  {
   "cell_type": "code",
   "execution_count": 1,
   "metadata": {},
   "outputs": [
    {
     "data": {
      "image/png": "[encoded data removed]",
      "text/plain": [
       "<Figure size 432x288 with 1 Axes>"
      ]
     },
     "metadata": {
      "needs_background": "light"
     },
     "output_type": "display_data"
    },
    {
     "data": {
      "image/png": "[encoded data removed]",
      "text/plain": [
       "<Figure size 432x288 with 1 Axes>"
      ]
     },
     "metadata": {
      "needs_background": "light"
     },
     "output_type": "display_data"
    },
    {
     "data": {
      "image/png": "[encoded data removed]",
      "text/plain": [
       "<Figure size 432x288 with 1 Axes>"
      ]
     },
     "metadata": {
      "needs_background": "light"
     },
     "output_type": "display_data"
    },
    {
     "ename": "NameError",
     "evalue": "name 'df_taxi_clean' is not defined",
     "output_type": "error",
     "traceback": [
      "\u001b[1;31m---------------------------------------------------------------------------\u001b[0m",
      "\u001b[1;31mNameError\u001b[0m                                 Traceback (most recent call last)",
      "\u001b[1;32m~\\Documents\\daily work simplon\\Doc Gilles\\19_taxi_NYC\\Calcul_nettoye.ipynb\u001b[0m in \u001b[0;36m<module>\u001b[1;34m\u001b[0m\n\u001b[0;32m      1\u001b[0m \u001b[0mx\u001b[0m\u001b[1;33m=\u001b[0m\u001b[0mdf_taxi\u001b[0m\u001b[1;33m[\u001b[0m\u001b[1;34m\"trip_duration_h\"\u001b[0m\u001b[1;33m]\u001b[0m\u001b[1;33m\u001b[0m\u001b[1;33m\u001b[0m\u001b[0m\n\u001b[0;32m      2\u001b[0m \u001b[0my\u001b[0m\u001b[1;33m=\u001b[0m\u001b[0mdf_taxi\u001b[0m\u001b[1;33m[\u001b[0m\u001b[1;34m\"distance\"\u001b[0m\u001b[1;33m]\u001b[0m\u001b[1;33m\u001b[0m\u001b[1;33m\u001b[0m\u001b[0m\n\u001b[1;32m----> 3\u001b[1;33m \u001b[0max\u001b[0m \u001b[1;33m=\u001b[0m \u001b[0msns\u001b[0m\u001b[1;33m.\u001b[0m\u001b[0mscatterplot\u001b[0m\u001b[1;33m(\u001b[0m\u001b[0mx\u001b[0m\u001b[1;33m=\u001b[0m\u001b[0mx\u001b[0m\u001b[1;33m,\u001b[0m \u001b[0my\u001b[0m\u001b[1;33m=\u001b[0m\u001b[0my\u001b[0m\u001b[1;33m,\u001b[0m \u001b[0mdata\u001b[0m\u001b[1;33m=\u001b[0m\u001b[0mdf_taxi_clean\u001b[0m\u001b[1;33m)\u001b[0m\u001b[1;33m\u001b[0m\u001b[1;33m\u001b[0m\u001b[0m\n\u001b[0m",
      "\u001b[1;31mNameError\u001b[0m: name 'df_taxi_clean' is not defined"
     ]
    }
   ],
   "source": [
    "%run Calcul_nettoye.ipynb"
   ]
  },
  {
   "cell_type": "code",
   "execution_count": 71,
   "metadata": {
    "scrolled": true
   },
   "outputs": [
    {
     "data": {
      "text/html": [
       "<div>\n",
       "<style scoped>\n",
       "    .dataframe tbody tr th:only-of-type {\n",
       "        vertical-align: middle;\n",
       "    }\n",
       "\n",
       "    .dataframe tbody tr th {\n",
       "        vertical-align: top;\n",
       "    }\n",
       "\n",
       "    .dataframe thead th {\n",
       "        text-align: right;\n",
       "    }\n",
       "</style>\n",
       "<table border=\"1\" class=\"dataframe\">\n",
       "  <thead>\n",
       "    <tr style=\"text-align: right;\">\n",
       "      <th></th>\n",
       "      <th>id</th>\n",
       "      <th>vendor_id</th>\n",
       "      <th>pickup_datetime</th>\n",
       "      <th>dropoff_datetime</th>\n",
       "      <th>passenger_count</th>\n",
       "      <th>pickup_longitude</th>\n",
       "      <th>pickup_latitude</th>\n",
       "      <th>dropoff_longitude</th>\n",
       "      <th>dropoff_latitude</th>\n",
       "      <th>store_and_fwd_flag</th>\n",
       "      <th>trip_duration</th>\n",
       "      <th>distance</th>\n",
       "      <th>trip_duration_h</th>\n",
       "      <th>vitesse_m_km_h</th>\n",
       "      <th>weekday_pickup</th>\n",
       "      <th>hour_pickup</th>\n",
       "      <th>hour_class</th>\n",
       "    </tr>\n",
       "  </thead>\n",
       "  <tbody>\n",
       "    <tr>\n",
       "      <td>0</td>\n",
       "      <td>id2875421</td>\n",
       "      <td>2</td>\n",
       "      <td>2016-03-14 17:24:55</td>\n",
       "      <td>2016-03-14 17:32:30</td>\n",
       "      <td>1</td>\n",
       "      <td>-73.982155</td>\n",
       "      <td>40.767937</td>\n",
       "      <td>-73.964630</td>\n",
       "      <td>40.765602</td>\n",
       "      <td>N</td>\n",
       "      <td>455</td>\n",
       "      <td>1.498991</td>\n",
       "      <td>0.126389</td>\n",
       "      <td>11.860150</td>\n",
       "      <td>0</td>\n",
       "      <td>17</td>\n",
       "      <td>(15, 19]</td>\n",
       "    </tr>\n",
       "    <tr>\n",
       "      <td>1</td>\n",
       "      <td>id2377394</td>\n",
       "      <td>1</td>\n",
       "      <td>2016-06-12 00:43:35</td>\n",
       "      <td>2016-06-12 00:54:38</td>\n",
       "      <td>1</td>\n",
       "      <td>-73.980415</td>\n",
       "      <td>40.738564</td>\n",
       "      <td>-73.999481</td>\n",
       "      <td>40.731152</td>\n",
       "      <td>N</td>\n",
       "      <td>663</td>\n",
       "      <td>1.806074</td>\n",
       "      <td>0.184167</td>\n",
       "      <td>9.806736</td>\n",
       "      <td>6</td>\n",
       "      <td>0</td>\n",
       "      <td>(-1, 3]</td>\n",
       "    </tr>\n",
       "    <tr>\n",
       "      <td>2</td>\n",
       "      <td>id3858529</td>\n",
       "      <td>2</td>\n",
       "      <td>2016-01-19 11:35:24</td>\n",
       "      <td>2016-01-19 12:10:48</td>\n",
       "      <td>1</td>\n",
       "      <td>-73.979027</td>\n",
       "      <td>40.763939</td>\n",
       "      <td>-74.005333</td>\n",
       "      <td>40.710087</td>\n",
       "      <td>N</td>\n",
       "      <td>2124</td>\n",
       "      <td>6.387103</td>\n",
       "      <td>0.590000</td>\n",
       "      <td>10.825598</td>\n",
       "      <td>1</td>\n",
       "      <td>11</td>\n",
       "      <td>(7, 11]</td>\n",
       "    </tr>\n",
       "    <tr>\n",
       "      <td>3</td>\n",
       "      <td>id3504673</td>\n",
       "      <td>2</td>\n",
       "      <td>2016-04-06 19:32:31</td>\n",
       "      <td>2016-04-06 19:39:40</td>\n",
       "      <td>1</td>\n",
       "      <td>-74.010040</td>\n",
       "      <td>40.719971</td>\n",
       "      <td>-74.012268</td>\n",
       "      <td>40.706718</td>\n",
       "      <td>N</td>\n",
       "      <td>429</td>\n",
       "      <td>1.485965</td>\n",
       "      <td>0.119167</td>\n",
       "      <td>12.469634</td>\n",
       "      <td>2</td>\n",
       "      <td>19</td>\n",
       "      <td>(15, 19]</td>\n",
       "    </tr>\n",
       "    <tr>\n",
       "      <td>4</td>\n",
       "      <td>id2181028</td>\n",
       "      <td>2</td>\n",
       "      <td>2016-03-26 13:30:55</td>\n",
       "      <td>2016-03-26 13:38:10</td>\n",
       "      <td>1</td>\n",
       "      <td>-73.973053</td>\n",
       "      <td>40.793209</td>\n",
       "      <td>-73.972923</td>\n",
       "      <td>40.782520</td>\n",
       "      <td>N</td>\n",
       "      <td>435</td>\n",
       "      <td>1.188962</td>\n",
       "      <td>0.120833</td>\n",
       "      <td>9.839682</td>\n",
       "      <td>5</td>\n",
       "      <td>13</td>\n",
       "      <td>(11, 15]</td>\n",
       "    </tr>\n",
       "  </tbody>\n",
       "</table>\n",
       "</div>"
      ],
      "text/plain": [
       "          id  vendor_id      pickup_datetime     dropoff_datetime  \\\n",
       "0  id2875421          2  2016-03-14 17:24:55  2016-03-14 17:32:30   \n",
       "1  id2377394          1  2016-06-12 00:43:35  2016-06-12 00:54:38   \n",
       "2  id3858529          2  2016-01-19 11:35:24  2016-01-19 12:10:48   \n",
       "3  id3504673          2  2016-04-06 19:32:31  2016-04-06 19:39:40   \n",
       "4  id2181028          2  2016-03-26 13:30:55  2016-03-26 13:38:10   \n",
       "\n",
       "   passenger_count  pickup_longitude  pickup_latitude  dropoff_longitude  \\\n",
       "0                1        -73.982155        40.767937         -73.964630   \n",
       "1                1        -73.980415        40.738564         -73.999481   \n",
       "2                1        -73.979027        40.763939         -74.005333   \n",
       "3                1        -74.010040        40.719971         -74.012268   \n",
       "4                1        -73.973053        40.793209         -73.972923   \n",
       "\n",
       "   dropoff_latitude store_and_fwd_flag  trip_duration  distance  \\\n",
       "0         40.765602                  N            455  1.498991   \n",
       "1         40.731152                  N            663  1.806074   \n",
       "2         40.710087                  N           2124  6.387103   \n",
       "3         40.706718                  N            429  1.485965   \n",
       "4         40.782520                  N            435  1.188962   \n",
       "\n",
       "   trip_duration_h  vitesse_m_km_h  weekday_pickup  hour_pickup hour_class  \n",
       "0         0.126389       11.860150               0           17   (15, 19]  \n",
       "1         0.184167        9.806736               6            0    (-1, 3]  \n",
       "2         0.590000       10.825598               1           11    (7, 11]  \n",
       "3         0.119167       12.469634               2           19   (15, 19]  \n",
       "4         0.120833        9.839682               5           13   (11, 15]  "
      ]
     },
     "execution_count": 71,
     "metadata": {},
     "output_type": "execute_result"
    }
   ],
   "source": [
    "df_taxi.head()"
   ]
  },
  {
   "cell_type": "code",
   "execution_count": 5,
   "metadata": {},
   "outputs": [
    {
     "data": {
      "text/plain": [
       "(1458629, 14)"
      ]
     },
     "execution_count": 5,
     "metadata": {},
     "output_type": "execute_result"
    }
   ],
   "source": [
    "df_taxi.shape"
   ]
  },
  {
   "cell_type": "code",
   "execution_count": 2,
   "metadata": {
    "scrolled": true
   },
   "outputs": [],
   "source": [
    "df_taxi_clean = df_taxi.drop([df_taxi.index[355003] , df_taxi.index[680594], df_taxi.index[924150], df_taxi.index[978383]])"
   ]
  },
  {
   "cell_type": "code",
   "execution_count": 3,
   "metadata": {},
   "outputs": [],
   "source": [
    "df_taxi_clean = df_taxi_clean[df_taxi_clean[\"distance\"]<200]"
   ]
  },
  {
   "cell_type": "code",
   "execution_count": 8,
   "metadata": {
    "scrolled": true
   },
   "outputs": [
    {
     "data": {
      "text/plain": [
       "952.8145863398748"
      ]
     },
     "execution_count": 8,
     "metadata": {},
     "output_type": "execute_result"
    }
   ],
   "source": [
    "df_taxi_clean.trip_duration.mean()"
   ]
  },
  {
   "cell_type": "code",
   "execution_count": 79,
   "metadata": {},
   "outputs": [
    {
     "data": {
      "text/html": [
       "<div>\n",
       "<style scoped>\n",
       "    .dataframe tbody tr th:only-of-type {\n",
       "        vertical-align: middle;\n",
       "    }\n",
       "\n",
       "    .dataframe tbody tr th {\n",
       "        vertical-align: top;\n",
       "    }\n",
       "\n",
       "    .dataframe thead th {\n",
       "        text-align: right;\n",
       "    }\n",
       "</style>\n",
       "<table border=\"1\" class=\"dataframe\">\n",
       "  <thead>\n",
       "    <tr style=\"text-align: right;\">\n",
       "      <th></th>\n",
       "      <th>id</th>\n",
       "      <th>vendor_id</th>\n",
       "      <th>pickup_datetime</th>\n",
       "      <th>dropoff_datetime</th>\n",
       "      <th>passenger_count</th>\n",
       "      <th>pickup_longitude</th>\n",
       "      <th>pickup_latitude</th>\n",
       "      <th>dropoff_longitude</th>\n",
       "      <th>dropoff_latitude</th>\n",
       "      <th>store_and_fwd_flag</th>\n",
       "      <th>trip_duration</th>\n",
       "      <th>distance</th>\n",
       "      <th>trip_duration_h</th>\n",
       "      <th>vitesse_m_km_h</th>\n",
       "      <th>weekday_pickup</th>\n",
       "      <th>hour_pickup</th>\n",
       "      <th>hour_class</th>\n",
       "    </tr>\n",
       "  </thead>\n",
       "  <tbody>\n",
       "    <tr>\n",
       "      <td>0</td>\n",
       "      <td>id2875421</td>\n",
       "      <td>2</td>\n",
       "      <td>2016-03-14 17:24:55</td>\n",
       "      <td>2016-03-14 17:32:30</td>\n",
       "      <td>1</td>\n",
       "      <td>-73.982155</td>\n",
       "      <td>40.767937</td>\n",
       "      <td>-73.964630</td>\n",
       "      <td>40.765602</td>\n",
       "      <td>N</td>\n",
       "      <td>455</td>\n",
       "      <td>1.498991</td>\n",
       "      <td>0.126389</td>\n",
       "      <td>11.860150</td>\n",
       "      <td>0</td>\n",
       "      <td>17</td>\n",
       "      <td>(15, 19]</td>\n",
       "    </tr>\n",
       "    <tr>\n",
       "      <td>1</td>\n",
       "      <td>id2377394</td>\n",
       "      <td>1</td>\n",
       "      <td>2016-06-12 00:43:35</td>\n",
       "      <td>2016-06-12 00:54:38</td>\n",
       "      <td>1</td>\n",
       "      <td>-73.980415</td>\n",
       "      <td>40.738564</td>\n",
       "      <td>-73.999481</td>\n",
       "      <td>40.731152</td>\n",
       "      <td>N</td>\n",
       "      <td>663</td>\n",
       "      <td>1.806074</td>\n",
       "      <td>0.184167</td>\n",
       "      <td>9.806736</td>\n",
       "      <td>6</td>\n",
       "      <td>0</td>\n",
       "      <td>(-1, 3]</td>\n",
       "    </tr>\n",
       "    <tr>\n",
       "      <td>2</td>\n",
       "      <td>id3858529</td>\n",
       "      <td>2</td>\n",
       "      <td>2016-01-19 11:35:24</td>\n",
       "      <td>2016-01-19 12:10:48</td>\n",
       "      <td>1</td>\n",
       "      <td>-73.979027</td>\n",
       "      <td>40.763939</td>\n",
       "      <td>-74.005333</td>\n",
       "      <td>40.710087</td>\n",
       "      <td>N</td>\n",
       "      <td>2124</td>\n",
       "      <td>6.387103</td>\n",
       "      <td>0.590000</td>\n",
       "      <td>10.825598</td>\n",
       "      <td>1</td>\n",
       "      <td>11</td>\n",
       "      <td>(7, 11]</td>\n",
       "    </tr>\n",
       "    <tr>\n",
       "      <td>3</td>\n",
       "      <td>id3504673</td>\n",
       "      <td>2</td>\n",
       "      <td>2016-04-06 19:32:31</td>\n",
       "      <td>2016-04-06 19:39:40</td>\n",
       "      <td>1</td>\n",
       "      <td>-74.010040</td>\n",
       "      <td>40.719971</td>\n",
       "      <td>-74.012268</td>\n",
       "      <td>40.706718</td>\n",
       "      <td>N</td>\n",
       "      <td>429</td>\n",
       "      <td>1.485965</td>\n",
       "      <td>0.119167</td>\n",
       "      <td>12.469634</td>\n",
       "      <td>2</td>\n",
       "      <td>19</td>\n",
       "      <td>(15, 19]</td>\n",
       "    </tr>\n",
       "    <tr>\n",
       "      <td>4</td>\n",
       "      <td>id2181028</td>\n",
       "      <td>2</td>\n",
       "      <td>2016-03-26 13:30:55</td>\n",
       "      <td>2016-03-26 13:38:10</td>\n",
       "      <td>1</td>\n",
       "      <td>-73.973053</td>\n",
       "      <td>40.793209</td>\n",
       "      <td>-73.972923</td>\n",
       "      <td>40.782520</td>\n",
       "      <td>N</td>\n",
       "      <td>435</td>\n",
       "      <td>1.188962</td>\n",
       "      <td>0.120833</td>\n",
       "      <td>9.839682</td>\n",
       "      <td>5</td>\n",
       "      <td>13</td>\n",
       "      <td>(11, 15]</td>\n",
       "    </tr>\n",
       "  </tbody>\n",
       "</table>\n",
       "</div>"
      ],
      "text/plain": [
       "          id  vendor_id      pickup_datetime     dropoff_datetime  \\\n",
       "0  id2875421          2  2016-03-14 17:24:55  2016-03-14 17:32:30   \n",
       "1  id2377394          1  2016-06-12 00:43:35  2016-06-12 00:54:38   \n",
       "2  id3858529          2  2016-01-19 11:35:24  2016-01-19 12:10:48   \n",
       "3  id3504673          2  2016-04-06 19:32:31  2016-04-06 19:39:40   \n",
       "4  id2181028          2  2016-03-26 13:30:55  2016-03-26 13:38:10   \n",
       "\n",
       "   passenger_count  pickup_longitude  pickup_latitude  dropoff_longitude  \\\n",
       "0                1        -73.982155        40.767937         -73.964630   \n",
       "1                1        -73.980415        40.738564         -73.999481   \n",
       "2                1        -73.979027        40.763939         -74.005333   \n",
       "3                1        -74.010040        40.719971         -74.012268   \n",
       "4                1        -73.973053        40.793209         -73.972923   \n",
       "\n",
       "   dropoff_latitude store_and_fwd_flag  trip_duration  distance  \\\n",
       "0         40.765602                  N            455  1.498991   \n",
       "1         40.731152                  N            663  1.806074   \n",
       "2         40.710087                  N           2124  6.387103   \n",
       "3         40.706718                  N            429  1.485965   \n",
       "4         40.782520                  N            435  1.188962   \n",
       "\n",
       "   trip_duration_h  vitesse_m_km_h  weekday_pickup  hour_pickup hour_class  \n",
       "0         0.126389       11.860150               0           17   (15, 19]  \n",
       "1         0.184167        9.806736               6            0    (-1, 3]  \n",
       "2         0.590000       10.825598               1           11    (7, 11]  \n",
       "3         0.119167       12.469634               2           19   (15, 19]  \n",
       "4         0.120833        9.839682               5           13   (11, 15]  "
      ]
     },
     "execution_count": 79,
     "metadata": {},
     "output_type": "execute_result"
    }
   ],
   "source": [
    "df_taxi_clean.head()"
   ]
  },
  {
   "cell_type": "code",
   "execution_count": 80,
   "metadata": {
    "scrolled": true
   },
   "outputs": [
    {
     "name": "stdout",
     "output_type": "stream",
     "text": [
      "weekday_pickup\n",
      "0     897.951013\n",
      "1     962.907036\n",
      "2     975.450662\n",
      "3    1006.523015\n",
      "4     990.223570\n",
      "5     922.817811\n",
      "6     901.639395\n",
      "Name: trip_duration, dtype: float64\n"
     ]
    }
   ],
   "source": [
    "day_of_week_duration = df_taxi_clean.groupby(\"weekday_pickup\")[\"trip_duration\"].mean()\n",
    "print(day_of_week_duration)"
   ]
  },
  {
   "cell_type": "code",
   "execution_count": 12,
   "metadata": {},
   "outputs": [],
   "source": [
    "import seaborn as sns; sns.set()\n",
    "import matplotlib.pyplot as plt"
   ]
  },
  {
   "cell_type": "code",
   "execution_count": 62,
   "metadata": {
    "scrolled": true
   },
   "outputs": [
    {
     "data": {
      "image/png": "[encoded data removed]",
      "text/plain": [
       "<Figure size 432x288 with 1 Axes>"
      ]
     },
     "metadata": {},
     "output_type": "display_data"
    }
   ],
   "source": [
    "sns.set(style=\"whitegrid\")\n",
    "\n",
    "x=day_of_week_duration.index\n",
    "y=day_of_week_duration.values\n",
    "ax = sns.barplot(x=x, y=y, data=df_taxi_clean)"
   ]
  },
  {
   "cell_type": "code",
   "execution_count": 63,
   "metadata": {},
   "outputs": [
    {
     "data": {
      "image/png": "[encoded data removed]",
      "text/plain": [
       "<Figure size 432x288 with 1 Axes>"
      ]
     },
     "metadata": {},
     "output_type": "display_data"
    }
   ],
   "source": [
    "x=day_of_week_duration.index\n",
    "y=day_of_week_duration.values\n",
    "ax = sns.lineplot(x=x, y=y, data=df_taxi_clean)"
   ]
  },
  {
   "cell_type": "code",
   "execution_count": 64,
   "metadata": {},
   "outputs": [
    {
     "name": "stdout",
     "output_type": "stream",
     "text": [
      "hour_pickup\n",
      "0      936.657302\n",
      "1      903.087112\n",
      "2      890.076934\n",
      "3      890.070878\n",
      "4      921.976444\n",
      "5      822.298960\n",
      "6      797.434943\n",
      "7      831.758345\n",
      "8      924.559199\n",
      "9      933.528915\n",
      "10     933.367605\n",
      "11     966.430282\n",
      "12     993.533079\n",
      "13    1032.225613\n",
      "14    1075.789264\n",
      "15    1118.836917\n",
      "16    1080.115470\n",
      "17    1030.581619\n",
      "18     981.593353\n",
      "19     894.354059\n",
      "20     879.471845\n",
      "21     890.515110\n",
      "22    1023.455921\n",
      "23     925.091409\n",
      "Name: trip_duration, dtype: float64\n"
     ]
    }
   ],
   "source": [
    "hour_of_day_duration = df_taxi_clean.groupby(\"hour_pickup\")[\"trip_duration\"].mean()\n",
    "print(hour_of_day_duration)"
   ]
  },
  {
   "cell_type": "code",
   "execution_count": 65,
   "metadata": {
    "scrolled": true
   },
   "outputs": [
    {
     "data": {
      "image/png": "[encoded data removed]",
      "text/plain": [
       "<Figure size 432x288 with 1 Axes>"
      ]
     },
     "metadata": {},
     "output_type": "display_data"
    }
   ],
   "source": [
    "x=hour_of_day_duration.index\n",
    "y=hour_of_day_duration.values\n",
    "ax = sns.lineplot(x=x, y=y, data=df_taxi_clean)"
   ]
  },
  {
   "cell_type": "code",
   "execution_count": 21,
   "metadata": {},
   "outputs": [
    {
     "data": {
      "text/plain": [
       "(0, 20)"
      ]
     },
     "execution_count": 21,
     "metadata": {},
     "output_type": "execute_result"
    },
    {
     "data": {
      "image/png": "[encoded data removed]",
      "text/plain": [
       "<Figure size 432x288 with 1 Axes>"
      ]
     },
     "metadata": {},
     "output_type": "display_data"
    }
   ],
   "source": [
    "plt.boxplot([df_taxi_clean[\"distance\"]])\n",
    "plt.ylim(0,20)"
   ]
  },
  {
   "cell_type": "code",
   "execution_count": 81,
   "metadata": {
    "scrolled": true
   },
   "outputs": [
    {
     "data": {
      "text/plain": [
       "<matplotlib.axes._subplots.AxesSubplot at 0x2a608d3cdc8>"
      ]
     },
     "execution_count": 81,
     "metadata": {},
     "output_type": "execute_result"
    },
    {
     "data": {
      "image/png": "[encoded data removed]",
      "text/plain": [
       "<Figure size 432x288 with 1 Axes>"
      ]
     },
     "metadata": {},
     "output_type": "display_data"
    }
   ],
   "source": [
    "x=df_taxi_clean.distance\n",
    "y=df_taxi_clean.trip_duration\n",
    "\n",
    "sns.scatterplot(x=x, y=y, data=df_taxi_clean)"
   ]
  },
  {
   "cell_type": "code",
   "execution_count": 5,
   "metadata": {},
   "outputs": [],
   "source": [
    "df_distance_moins_de_100 = df_taxi_clean[df_taxi_clean['distance']<3.75]"
   ]
  },
  {
   "cell_type": "code",
   "execution_count": 6,
   "metadata": {},
   "outputs": [],
   "source": [
    "df_distance_moins_de_100_vitesse_moins_de_150 = df_distance_moins_de_100[df_distance_moins_de_100['vitesse_m_km_h']<150]"
   ]
  },
  {
   "cell_type": "code",
   "execution_count": 7,
   "metadata": {},
   "outputs": [
    {
     "data": {
      "image/png": "[encoded data removed]",
      "text/plain": [
       "<Figure size 432x288 with 1 Axes>"
      ]
     },
     "metadata": {
      "needs_background": "light"
     },
     "output_type": "display_data"
    }
   ],
   "source": [
    "x=df_distance_moins_de_100.distance\n",
    "y=df_distance_moins_de_100.trip_duration\n",
    "\n",
    "ax = sns.scatterplot(x=x, y=y, data=df_distance_moins_de_100)"
   ]
  },
  {
   "cell_type": "code",
   "execution_count": 4,
   "metadata": {},
   "outputs": [
    {
     "data": {
      "text/html": [
       "<div>\n",
       "<style scoped>\n",
       "    .dataframe tbody tr th:only-of-type {\n",
       "        vertical-align: middle;\n",
       "    }\n",
       "\n",
       "    .dataframe tbody tr th {\n",
       "        vertical-align: top;\n",
       "    }\n",
       "\n",
       "    .dataframe thead th {\n",
       "        text-align: right;\n",
       "    }\n",
       "</style>\n",
       "<table border=\"1\" class=\"dataframe\">\n",
       "  <thead>\n",
       "    <tr style=\"text-align: right;\">\n",
       "      <th></th>\n",
       "      <th>id</th>\n",
       "      <th>vendor_id</th>\n",
       "      <th>pickup_datetime</th>\n",
       "      <th>dropoff_datetime</th>\n",
       "      <th>passenger_count</th>\n",
       "      <th>pickup_longitude</th>\n",
       "      <th>pickup_latitude</th>\n",
       "      <th>dropoff_longitude</th>\n",
       "      <th>dropoff_latitude</th>\n",
       "      <th>store_and_fwd_flag</th>\n",
       "      <th>trip_duration</th>\n",
       "      <th>distance</th>\n",
       "      <th>trip_duration_h</th>\n",
       "      <th>vitesse_m_km_h</th>\n",
       "    </tr>\n",
       "  </thead>\n",
       "  <tbody>\n",
       "    <tr>\n",
       "      <td>1107</td>\n",
       "      <td>id0729156</td>\n",
       "      <td>2</td>\n",
       "      <td>2016-06-23 13:36:48</td>\n",
       "      <td>2016-06-23 13:36:50</td>\n",
       "      <td>3</td>\n",
       "      <td>-73.827660</td>\n",
       "      <td>40.716175</td>\n",
       "      <td>-73.822113</td>\n",
       "      <td>40.711452</td>\n",
       "      <td>N</td>\n",
       "      <td>2</td>\n",
       "      <td>0.703286</td>\n",
       "      <td>0.000556</td>\n",
       "      <td>1265.913957</td>\n",
       "    </tr>\n",
       "    <tr>\n",
       "      <td>13046</td>\n",
       "      <td>id3468323</td>\n",
       "      <td>1</td>\n",
       "      <td>2016-06-27 18:37:21</td>\n",
       "      <td>2016-06-27 18:43:16</td>\n",
       "      <td>1</td>\n",
       "      <td>-73.881195</td>\n",
       "      <td>40.882942</td>\n",
       "      <td>-73.965141</td>\n",
       "      <td>40.762486</td>\n",
       "      <td>N</td>\n",
       "      <td>355</td>\n",
       "      <td>15.147385</td>\n",
       "      <td>0.098611</td>\n",
       "      <td>153.607283</td>\n",
       "    </tr>\n",
       "    <tr>\n",
       "      <td>107171</td>\n",
       "      <td>id1656254</td>\n",
       "      <td>2</td>\n",
       "      <td>2016-01-18 00:35:38</td>\n",
       "      <td>2016-01-18 00:35:54</td>\n",
       "      <td>1</td>\n",
       "      <td>-73.805527</td>\n",
       "      <td>40.651360</td>\n",
       "      <td>-73.804230</td>\n",
       "      <td>40.661629</td>\n",
       "      <td>N</td>\n",
       "      <td>16</td>\n",
       "      <td>1.147469</td>\n",
       "      <td>0.004444</td>\n",
       "      <td>258.180457</td>\n",
       "    </tr>\n",
       "    <tr>\n",
       "      <td>125668</td>\n",
       "      <td>id0456393</td>\n",
       "      <td>1</td>\n",
       "      <td>2016-04-27 06:59:15</td>\n",
       "      <td>2016-04-27 07:03:40</td>\n",
       "      <td>1</td>\n",
       "      <td>-73.979668</td>\n",
       "      <td>40.748005</td>\n",
       "      <td>-73.865097</td>\n",
       "      <td>40.683315</td>\n",
       "      <td>N</td>\n",
       "      <td>265</td>\n",
       "      <td>12.044626</td>\n",
       "      <td>0.073611</td>\n",
       "      <td>163.625113</td>\n",
       "    </tr>\n",
       "    <tr>\n",
       "      <td>127613</td>\n",
       "      <td>id1322914</td>\n",
       "      <td>2</td>\n",
       "      <td>2016-03-25 17:21:18</td>\n",
       "      <td>2016-03-25 17:21:27</td>\n",
       "      <td>1</td>\n",
       "      <td>-73.801102</td>\n",
       "      <td>40.669941</td>\n",
       "      <td>-73.801392</td>\n",
       "      <td>40.673851</td>\n",
       "      <td>N</td>\n",
       "      <td>9</td>\n",
       "      <td>0.435603</td>\n",
       "      <td>0.002500</td>\n",
       "      <td>174.241210</td>\n",
       "    </tr>\n",
       "    <tr>\n",
       "      <td>...</td>\n",
       "      <td>...</td>\n",
       "      <td>...</td>\n",
       "      <td>...</td>\n",
       "      <td>...</td>\n",
       "      <td>...</td>\n",
       "      <td>...</td>\n",
       "      <td>...</td>\n",
       "      <td>...</td>\n",
       "      <td>...</td>\n",
       "      <td>...</td>\n",
       "      <td>...</td>\n",
       "      <td>...</td>\n",
       "      <td>...</td>\n",
       "      <td>...</td>\n",
       "    </tr>\n",
       "    <tr>\n",
       "      <td>1359910</td>\n",
       "      <td>id3628988</td>\n",
       "      <td>1</td>\n",
       "      <td>2016-05-05 18:21:37</td>\n",
       "      <td>2016-05-05 18:30:45</td>\n",
       "      <td>1</td>\n",
       "      <td>-79.569733</td>\n",
       "      <td>41.586273</td>\n",
       "      <td>-80.355431</td>\n",
       "      <td>42.090183</td>\n",
       "      <td>N</td>\n",
       "      <td>548</td>\n",
       "      <td>85.911837</td>\n",
       "      <td>0.152222</td>\n",
       "      <td>564.384334</td>\n",
       "    </tr>\n",
       "    <tr>\n",
       "      <td>1370617</td>\n",
       "      <td>id2427976</td>\n",
       "      <td>2</td>\n",
       "      <td>2016-02-07 15:00:04</td>\n",
       "      <td>2016-02-07 15:00:11</td>\n",
       "      <td>1</td>\n",
       "      <td>-73.983749</td>\n",
       "      <td>40.755661</td>\n",
       "      <td>-73.981155</td>\n",
       "      <td>40.753223</td>\n",
       "      <td>N</td>\n",
       "      <td>7</td>\n",
       "      <td>0.348258</td>\n",
       "      <td>0.001944</td>\n",
       "      <td>179.104257</td>\n",
       "    </tr>\n",
       "    <tr>\n",
       "      <td>1390507</td>\n",
       "      <td>id3141426</td>\n",
       "      <td>2</td>\n",
       "      <td>2016-05-06 18:29:00</td>\n",
       "      <td>2016-05-06 18:29:05</td>\n",
       "      <td>1</td>\n",
       "      <td>-73.874718</td>\n",
       "      <td>40.730610</td>\n",
       "      <td>-73.867432</td>\n",
       "      <td>40.732868</td>\n",
       "      <td>N</td>\n",
       "      <td>5</td>\n",
       "      <td>0.663507</td>\n",
       "      <td>0.001389</td>\n",
       "      <td>477.724781</td>\n",
       "    </tr>\n",
       "    <tr>\n",
       "      <td>1398157</td>\n",
       "      <td>id2905190</td>\n",
       "      <td>2</td>\n",
       "      <td>2016-03-05 00:17:29</td>\n",
       "      <td>2016-03-05 00:17:32</td>\n",
       "      <td>1</td>\n",
       "      <td>-74.003487</td>\n",
       "      <td>40.732609</td>\n",
       "      <td>-74.004189</td>\n",
       "      <td>40.731274</td>\n",
       "      <td>N</td>\n",
       "      <td>3</td>\n",
       "      <td>0.159858</td>\n",
       "      <td>0.000833</td>\n",
       "      <td>191.829784</td>\n",
       "    </tr>\n",
       "    <tr>\n",
       "      <td>1439166</td>\n",
       "      <td>id2943073</td>\n",
       "      <td>2</td>\n",
       "      <td>2016-01-03 16:55:44</td>\n",
       "      <td>2016-01-03 16:55:45</td>\n",
       "      <td>1</td>\n",
       "      <td>-73.975677</td>\n",
       "      <td>40.785488</td>\n",
       "      <td>-73.976372</td>\n",
       "      <td>40.785831</td>\n",
       "      <td>N</td>\n",
       "      <td>1</td>\n",
       "      <td>0.069837</td>\n",
       "      <td>0.000278</td>\n",
       "      <td>251.411644</td>\n",
       "    </tr>\n",
       "  </tbody>\n",
       "</table>\n",
       "<p>87 rows × 14 columns</p>\n",
       "</div>"
      ],
      "text/plain": [
       "                id  vendor_id      pickup_datetime     dropoff_datetime  \\\n",
       "1107     id0729156          2  2016-06-23 13:36:48  2016-06-23 13:36:50   \n",
       "13046    id3468323          1  2016-06-27 18:37:21  2016-06-27 18:43:16   \n",
       "107171   id1656254          2  2016-01-18 00:35:38  2016-01-18 00:35:54   \n",
       "125668   id0456393          1  2016-04-27 06:59:15  2016-04-27 07:03:40   \n",
       "127613   id1322914          2  2016-03-25 17:21:18  2016-03-25 17:21:27   \n",
       "...            ...        ...                  ...                  ...   \n",
       "1359910  id3628988          1  2016-05-05 18:21:37  2016-05-05 18:30:45   \n",
       "1370617  id2427976          2  2016-02-07 15:00:04  2016-02-07 15:00:11   \n",
       "1390507  id3141426          2  2016-05-06 18:29:00  2016-05-06 18:29:05   \n",
       "1398157  id2905190          2  2016-03-05 00:17:29  2016-03-05 00:17:32   \n",
       "1439166  id2943073          2  2016-01-03 16:55:44  2016-01-03 16:55:45   \n",
       "\n",
       "         passenger_count  pickup_longitude  pickup_latitude  \\\n",
       "1107                   3        -73.827660        40.716175   \n",
       "13046                  1        -73.881195        40.882942   \n",
       "107171                 1        -73.805527        40.651360   \n",
       "125668                 1        -73.979668        40.748005   \n",
       "127613                 1        -73.801102        40.669941   \n",
       "...                  ...               ...              ...   \n",
       "1359910                1        -79.569733        41.586273   \n",
       "1370617                1        -73.983749        40.755661   \n",
       "1390507                1        -73.874718        40.730610   \n",
       "1398157                1        -74.003487        40.732609   \n",
       "1439166                1        -73.975677        40.785488   \n",
       "\n",
       "         dropoff_longitude  dropoff_latitude store_and_fwd_flag  \\\n",
       "1107            -73.822113         40.711452                  N   \n",
       "13046           -73.965141         40.762486                  N   \n",
       "107171          -73.804230         40.661629                  N   \n",
       "125668          -73.865097         40.683315                  N   \n",
       "127613          -73.801392         40.673851                  N   \n",
       "...                    ...               ...                ...   \n",
       "1359910         -80.355431         42.090183                  N   \n",
       "1370617         -73.981155         40.753223                  N   \n",
       "1390507         -73.867432         40.732868                  N   \n",
       "1398157         -74.004189         40.731274                  N   \n",
       "1439166         -73.976372         40.785831                  N   \n",
       "\n",
       "         trip_duration   distance  trip_duration_h  vitesse_m_km_h  \n",
       "1107                 2   0.703286         0.000556     1265.913957  \n",
       "13046              355  15.147385         0.098611      153.607283  \n",
       "107171              16   1.147469         0.004444      258.180457  \n",
       "125668             265  12.044626         0.073611      163.625113  \n",
       "127613               9   0.435603         0.002500      174.241210  \n",
       "...                ...        ...              ...             ...  \n",
       "1359910            548  85.911837         0.152222      564.384334  \n",
       "1370617              7   0.348258         0.001944      179.104257  \n",
       "1390507              5   0.663507         0.001389      477.724781  \n",
       "1398157              3   0.159858         0.000833      191.829784  \n",
       "1439166              1   0.069837         0.000278      251.411644  \n",
       "\n",
       "[87 rows x 14 columns]"
      ]
     },
     "execution_count": 4,
     "metadata": {},
     "output_type": "execute_result"
    }
   ],
   "source": [
    "df_taxi_clean[df_taxi_clean['vitesse_m_km_h']>150]"
   ]
  },
  {
   "cell_type": "code",
   "execution_count": 8,
   "metadata": {},
   "outputs": [
    {
     "data": {
      "text/plain": [
       "<pandas.core.groupby.generic.SeriesGroupBy object at 0x000001ED197DB488>"
      ]
     },
     "execution_count": 8,
     "metadata": {},
     "output_type": "execute_result"
    }
   ],
   "source": [
    "df_taxi_clean.groupby(\"distance\")[\"trip_duration\"]."
   ]
  },
  {
   "cell_type": "code",
   "execution_count": 10,
   "metadata": {},
   "outputs": [
    {
     "data": {
      "text/html": [
       "<div>\n",
       "<style scoped>\n",
       "    .dataframe tbody tr th:only-of-type {\n",
       "        vertical-align: middle;\n",
       "    }\n",
       "\n",
       "    .dataframe tbody tr th {\n",
       "        vertical-align: top;\n",
       "    }\n",
       "\n",
       "    .dataframe thead th {\n",
       "        text-align: right;\n",
       "    }\n",
       "</style>\n",
       "<table border=\"1\" class=\"dataframe\">\n",
       "  <thead>\n",
       "    <tr style=\"text-align: right;\">\n",
       "      <th></th>\n",
       "      <th>id</th>\n",
       "      <th>vendor_id</th>\n",
       "      <th>pickup_datetime</th>\n",
       "      <th>dropoff_datetime</th>\n",
       "      <th>passenger_count</th>\n",
       "      <th>pickup_longitude</th>\n",
       "      <th>pickup_latitude</th>\n",
       "      <th>dropoff_longitude</th>\n",
       "      <th>dropoff_latitude</th>\n",
       "      <th>store_and_fwd_flag</th>\n",
       "      <th>trip_duration</th>\n",
       "      <th>distance</th>\n",
       "      <th>trip_duration_h</th>\n",
       "      <th>vitesse_m_km_h</th>\n",
       "    </tr>\n",
       "  </thead>\n",
       "  <tbody>\n",
       "    <tr>\n",
       "      <td>0</td>\n",
       "      <td>id2875421</td>\n",
       "      <td>2</td>\n",
       "      <td>2016-03-14 17:24:55</td>\n",
       "      <td>2016-03-14 17:32:30</td>\n",
       "      <td>1</td>\n",
       "      <td>-73.982155</td>\n",
       "      <td>40.767937</td>\n",
       "      <td>-73.964630</td>\n",
       "      <td>40.765602</td>\n",
       "      <td>N</td>\n",
       "      <td>455</td>\n",
       "      <td>1.498991</td>\n",
       "      <td>0.126389</td>\n",
       "      <td>11.860150</td>\n",
       "    </tr>\n",
       "    <tr>\n",
       "      <td>1</td>\n",
       "      <td>id2377394</td>\n",
       "      <td>1</td>\n",
       "      <td>2016-06-12 00:43:35</td>\n",
       "      <td>2016-06-12 00:54:38</td>\n",
       "      <td>1</td>\n",
       "      <td>-73.980415</td>\n",
       "      <td>40.738564</td>\n",
       "      <td>-73.999481</td>\n",
       "      <td>40.731152</td>\n",
       "      <td>N</td>\n",
       "      <td>663</td>\n",
       "      <td>1.806074</td>\n",
       "      <td>0.184167</td>\n",
       "      <td>9.806736</td>\n",
       "    </tr>\n",
       "    <tr>\n",
       "      <td>2</td>\n",
       "      <td>id3858529</td>\n",
       "      <td>2</td>\n",
       "      <td>2016-01-19 11:35:24</td>\n",
       "      <td>2016-01-19 12:10:48</td>\n",
       "      <td>1</td>\n",
       "      <td>-73.979027</td>\n",
       "      <td>40.763939</td>\n",
       "      <td>-74.005333</td>\n",
       "      <td>40.710087</td>\n",
       "      <td>N</td>\n",
       "      <td>2124</td>\n",
       "      <td>6.387103</td>\n",
       "      <td>0.590000</td>\n",
       "      <td>10.825598</td>\n",
       "    </tr>\n",
       "    <tr>\n",
       "      <td>3</td>\n",
       "      <td>id3504673</td>\n",
       "      <td>2</td>\n",
       "      <td>2016-04-06 19:32:31</td>\n",
       "      <td>2016-04-06 19:39:40</td>\n",
       "      <td>1</td>\n",
       "      <td>-74.010040</td>\n",
       "      <td>40.719971</td>\n",
       "      <td>-74.012268</td>\n",
       "      <td>40.706718</td>\n",
       "      <td>N</td>\n",
       "      <td>429</td>\n",
       "      <td>1.485965</td>\n",
       "      <td>0.119167</td>\n",
       "      <td>12.469634</td>\n",
       "    </tr>\n",
       "    <tr>\n",
       "      <td>4</td>\n",
       "      <td>id2181028</td>\n",
       "      <td>2</td>\n",
       "      <td>2016-03-26 13:30:55</td>\n",
       "      <td>2016-03-26 13:38:10</td>\n",
       "      <td>1</td>\n",
       "      <td>-73.973053</td>\n",
       "      <td>40.793209</td>\n",
       "      <td>-73.972923</td>\n",
       "      <td>40.782520</td>\n",
       "      <td>N</td>\n",
       "      <td>435</td>\n",
       "      <td>1.188962</td>\n",
       "      <td>0.120833</td>\n",
       "      <td>9.839682</td>\n",
       "    </tr>\n",
       "  </tbody>\n",
       "</table>\n",
       "</div>"
      ],
      "text/plain": [
       "          id  vendor_id      pickup_datetime     dropoff_datetime  \\\n",
       "0  id2875421          2  2016-03-14 17:24:55  2016-03-14 17:32:30   \n",
       "1  id2377394          1  2016-06-12 00:43:35  2016-06-12 00:54:38   \n",
       "2  id3858529          2  2016-01-19 11:35:24  2016-01-19 12:10:48   \n",
       "3  id3504673          2  2016-04-06 19:32:31  2016-04-06 19:39:40   \n",
       "4  id2181028          2  2016-03-26 13:30:55  2016-03-26 13:38:10   \n",
       "\n",
       "   passenger_count  pickup_longitude  pickup_latitude  dropoff_longitude  \\\n",
       "0                1        -73.982155        40.767937         -73.964630   \n",
       "1                1        -73.980415        40.738564         -73.999481   \n",
       "2                1        -73.979027        40.763939         -74.005333   \n",
       "3                1        -74.010040        40.719971         -74.012268   \n",
       "4                1        -73.973053        40.793209         -73.972923   \n",
       "\n",
       "   dropoff_latitude store_and_fwd_flag  trip_duration  distance  \\\n",
       "0         40.765602                  N            455  1.498991   \n",
       "1         40.731152                  N            663  1.806074   \n",
       "2         40.710087                  N           2124  6.387103   \n",
       "3         40.706718                  N            429  1.485965   \n",
       "4         40.782520                  N            435  1.188962   \n",
       "\n",
       "   trip_duration_h  vitesse_m_km_h  \n",
       "0         0.126389       11.860150  \n",
       "1         0.184167        9.806736  \n",
       "2         0.590000       10.825598  \n",
       "3         0.119167       12.469634  \n",
       "4         0.120833        9.839682  "
      ]
     },
     "execution_count": 10,
     "metadata": {},
     "output_type": "execute_result"
    }
   ],
   "source": [
    "df_taxi_clean.head()"
   ]
  },
  {
   "cell_type": "markdown",
   "metadata": {},
   "source": [
    "## pour voir la corrélation, penser à faire sm.OLS et heatmap"
   ]
  },
  {
   "cell_type": "markdown",
   "metadata": {},
   "source": [
    "### Sélection 1"
   ]
  },
  {
   "cell_type": "code",
   "execution_count": 82,
   "metadata": {},
   "outputs": [],
   "source": [
    "'''x = df_taxi_clean[[\"vendor_id\", \"passenger_count\", \"pickup_longitude\", \"pickup_latitude\", \"weekday_pickup\", \"hour_pickup\"]]\n",
    "y = df_taxi_clean[\"trip_duration\"]/60'''"
   ]
  },
  {
   "cell_type": "markdown",
   "metadata": {},
   "source": [
    "### Sélection 2 "
   ]
  },
  {
   "cell_type": "code",
   "execution_count": 35,
   "metadata": {},
   "outputs": [],
   "source": [
    "'''x = df_taxi_clean[[\"distance\", \"weekday_pickup\", \"hour_pickup\"]] #normalement on pouvais pas savoir la distance en amont\n",
    "y = df_taxi_clean[\"trip_duration\"]/60'''"
   ]
  },
  {
   "cell_type": "markdown",
   "metadata": {},
   "source": [
    "### Sélection 3"
   ]
  },
  {
   "cell_type": "code",
   "execution_count": 6,
   "metadata": {},
   "outputs": [],
   "source": [
    "'''x = df_taxi_clean[[\"weekday_pickup\", \"hour_pickup\"]]\n",
    "y = df_taxi_clean[\"trip_duration\"]/60'''"
   ]
  },
  {
   "cell_type": "markdown",
   "metadata": {},
   "source": [
    "### Sélection 4"
   ]
  },
  {
   "cell_type": "code",
   "execution_count": 35,
   "metadata": {},
   "outputs": [],
   "source": [
    "x = df_taxi_clean[[\"distance\"]]\n",
    "y = df_taxi_clean[\"trip_duration\"]/60"
   ]
  },
  {
   "cell_type": "markdown",
   "metadata": {},
   "source": [
    "### Partie prédiction"
   ]
  },
  {
   "cell_type": "code",
   "execution_count": 36,
   "metadata": {},
   "outputs": [],
   "source": [
    "from sklearn.preprocessing import StandardScaler\n",
    "from sklearn.linear_model import LinearRegression, SGDRegressor\n",
    "from sklearn.model_selection import GridSearchCV\n",
    "from sklearn.model_selection import train_test_split\n",
    "from sklearn.metrics import mean_squared_error, r2_score"
   ]
  },
  {
   "cell_type": "code",
   "execution_count": 37,
   "metadata": {},
   "outputs": [],
   "source": [
    "# séparer les données en train et test\n",
    "\n",
    "x_train, x_test, y_train, y_test = train_test_split(x, y, train_size=0.3, random_state=22)"
   ]
  },
  {
   "cell_type": "code",
   "execution_count": 38,
   "metadata": {},
   "outputs": [],
   "source": [
    "# 标准化（Z-Score）(X-mean)/std"
   ]
  },
  {
   "cell_type": "code",
   "execution_count": 39,
   "metadata": {},
   "outputs": [],
   "source": [
    "transfer = StandardScaler()\n",
    "x_train = transfer.fit_transform(x_train)\n",
    "x_test = transfer.fit_transform(x_test)"
   ]
  },
  {
   "cell_type": "markdown",
   "metadata": {},
   "source": [
    "### LinearRegression"
   ]
  },
  {
   "cell_type": "code",
   "execution_count": 40,
   "metadata": {},
   "outputs": [],
   "source": [
    "estimator = LinearRegression()\n",
    "ret = estimator.fit(x_train, y_train)"
   ]
  },
  {
   "cell_type": "code",
   "execution_count": 41,
   "metadata": {},
   "outputs": [],
   "source": [
    "y_pre=estimator.predict(x_test)"
   ]
  },
  {
   "cell_type": "code",
   "execution_count": 42,
   "metadata": {},
   "outputs": [],
   "source": [
    "y_pre_train_l_r = estimator.predict(x_train)"
   ]
  },
  {
   "cell_type": "code",
   "execution_count": 91,
   "metadata": {},
   "outputs": [
    {
     "data": {
      "text/plain": [
       "'print(len(y_pre))'"
      ]
     },
     "execution_count": 91,
     "metadata": {},
     "output_type": "execute_result"
    }
   ],
   "source": [
    "'''print(len(y_pre))'''"
   ]
  },
  {
   "cell_type": "code",
   "execution_count": 92,
   "metadata": {},
   "outputs": [
    {
     "data": {
      "text/plain": [
       "'len(y_test)'"
      ]
     },
     "execution_count": 92,
     "metadata": {},
     "output_type": "execute_result"
    }
   ],
   "source": [
    "'''len(y_test)'''"
   ]
  },
  {
   "cell_type": "code",
   "execution_count": 43,
   "metadata": {},
   "outputs": [
    {
     "name": "stdout",
     "output_type": "stream",
     "text": [
      "2779.2231338405536\n"
     ]
    }
   ],
   "source": [
    "error=mean_squared_error(y_test, y_pre)\n",
    "print(error)"
   ]
  },
  {
   "cell_type": "code",
   "execution_count": 44,
   "metadata": {},
   "outputs": [
    {
     "name": "stdout",
     "output_type": "stream",
     "text": [
      "2574.350264086437\n"
     ]
    }
   ],
   "source": [
    "error_train=mean_squared_error(y_train, y_pre_train_l_r)\n",
    "print(error_train)"
   ]
  },
  {
   "cell_type": "code",
   "execution_count": 95,
   "metadata": {
    "collapsed": true
   },
   "outputs": [
    {
     "data": {
      "text/plain": [
       "'error_r2=r2_score(y_test, y_pre)\\nprint(error_r2)'"
      ]
     },
     "execution_count": 95,
     "metadata": {},
     "output_type": "execute_result"
    }
   ],
   "source": [
    "'''error_r2=r2_score(y_test, y_pre)\n",
    "print(error_r2)'''"
   ]
  },
  {
   "cell_type": "code",
   "execution_count": 48,
   "metadata": {
    "collapsed": true
   },
   "outputs": [
    {
     "data": {
      "text/plain": [
       "1          0.184167\n",
       "2          0.590000\n",
       "3          0.119167\n",
       "4          0.120833\n",
       "5          0.123056\n",
       "             ...   \n",
       "1458638    0.115000\n",
       "1458639    0.216111\n",
       "1458640    0.181944\n",
       "1458641    0.212222\n",
       "1458643    0.055000\n",
       "Name: trip_duration_h, Length: 1021051, dtype: float64"
      ]
     },
     "execution_count": 48,
     "metadata": {},
     "output_type": "execute_result"
    }
   ],
   "source": [
    "'''y_test.sort_index()'''"
   ]
  },
  {
   "cell_type": "code",
   "execution_count": 30,
   "metadata": {
    "collapsed": true
   },
   "outputs": [
    {
     "name": "stdout",
     "output_type": "stream",
     "text": [
      "[0.26900541 0.27141111 0.27261395 ... 0.25945374 0.26866265 0.26873056]\n"
     ]
    }
   ],
   "source": [
    "'''print(y_pre)'''"
   ]
  },
  {
   "cell_type": "code",
   "execution_count": 31,
   "metadata": {},
   "outputs": [],
   "source": [
    "'''taux_error = abs(y_pre-y_test.sort_index())/y_test.sort_index()*100'''"
   ]
  },
  {
   "cell_type": "code",
   "execution_count": 32,
   "metadata": {
    "collapsed": true
   },
   "outputs": [
    {
     "data": {
      "text/plain": [
       "1           46.066285\n",
       "2           53.998118\n",
       "3          128.766954\n",
       "4          124.161171\n",
       "5          117.404012\n",
       "              ...    \n",
       "1458638    129.435878\n",
       "1458639     20.866658\n",
       "1458640     42.600528\n",
       "1458641     26.594968\n",
       "1458643    388.601024\n",
       "Name: trip_duration_h, Length: 1021051, dtype: float64"
      ]
     },
     "execution_count": 32,
     "metadata": {},
     "output_type": "execute_result"
    }
   ],
   "source": [
    "'''taux_error'''"
   ]
  },
  {
   "cell_type": "code",
   "execution_count": 29,
   "metadata": {
    "collapsed": true
   },
   "outputs": [
    {
     "data": {
      "text/plain": [
       "161.5183912176754"
      ]
     },
     "execution_count": 29,
     "metadata": {},
     "output_type": "execute_result"
    }
   ],
   "source": [
    "'''taux_error.mean()'''"
   ]
  },
  {
   "cell_type": "code",
   "execution_count": 29,
   "metadata": {
    "collapsed": true
   },
   "outputs": [
    {
     "data": {
      "text/plain": [
       "161.5183912176754"
      ]
     },
     "execution_count": 29,
     "metadata": {},
     "output_type": "execute_result"
    }
   ],
   "source": [
    "'''taux_error.mean()'''"
   ]
  },
  {
   "cell_type": "markdown",
   "metadata": {},
   "source": [
    "### SGDRegressor"
   ]
  },
  {
   "cell_type": "code",
   "execution_count": 45,
   "metadata": {},
   "outputs": [],
   "source": [
    "estimator2=SGDRegressor()\n",
    "ret_SGD = estimator2.fit(x_train,y_train)"
   ]
  },
  {
   "cell_type": "code",
   "execution_count": 46,
   "metadata": {},
   "outputs": [],
   "source": [
    "y_pre_SGD = estimator2.predict(x_test)"
   ]
  },
  {
   "cell_type": "code",
   "execution_count": 47,
   "metadata": {
    "scrolled": true
   },
   "outputs": [
    {
     "name": "stdout",
     "output_type": "stream",
     "text": [
      "2779.9128835894694\n"
     ]
    }
   ],
   "source": [
    "error_SGD = mean_squared_error(y_test,y_pre_SGD)\n",
    "print(error_SGD)"
   ]
  },
  {
   "cell_type": "markdown",
   "metadata": {},
   "source": [
    "### Paramètrer les hyper paramètres"
   ]
  },
  {
   "cell_type": "code",
   "execution_count": 48,
   "metadata": {},
   "outputs": [],
   "source": [
    "penalty = ['l1', 'l2']\n",
    "alpha = [0.0001,0.001,0.01,0.1,1,10]\n",
    "max_iter = [500,1000,1500]\n",
    "\n",
    "param_grid = dict(penalty = penalty, alpha = alpha, max_iter=max_iter)"
   ]
  },
  {
   "cell_type": "code",
   "execution_count": 49,
   "metadata": {
    "scrolled": true
   },
   "outputs": [
    {
     "data": {
      "text/plain": [
       "{'mean_fit_time': array([1.81014233, 2.01603208, 2.70448122, 2.04276042, 2.03977895,\n",
       "        1.75338778, 1.75345511, 2.43554626, 2.06746802, 1.9848907 ,\n",
       "        2.02271109, 1.85737906, 1.98771338, 2.21979933, 1.95783343,\n",
       "        1.83881888, 2.44215536, 1.80693955, 2.03813605, 2.4298542 ,\n",
       "        1.94209118, 2.0670825 , 1.76852746, 1.9806417 , 2.37147822,\n",
       "        1.70654283, 2.50229859, 1.85325208, 1.57883511, 1.80789409,\n",
       "        2.57407846, 1.60794058, 2.0173059 , 1.49737649, 1.84111118,\n",
       "        1.5234498 ]),\n",
       " 'std_fit_time': array([0.38626364, 0.60681255, 0.7931294 , 0.57776754, 0.61706949,\n",
       "        0.10532024, 0.35561771, 1.00315702, 0.48600493, 0.57671798,\n",
       "        0.40577221, 0.39757405, 0.48202344, 0.81584643, 0.45884287,\n",
       "        0.82737847, 0.81139012, 0.40315007, 0.32746239, 0.88547231,\n",
       "        0.66454547, 0.27594201, 0.52149349, 0.48075537, 0.60360444,\n",
       "        0.55384724, 0.99895624, 0.49874038, 0.39828177, 0.3191944 ,\n",
       "        0.60534388, 0.20360181, 0.38398908, 0.22386709, 0.2650222 ,\n",
       "        0.49244976]),\n",
       " 'mean_score_time': array([0.00540195, 0.00540233, 0.00759892, 0.00480266, 0.00602326,\n",
       "        0.00659618, 0.00579801, 0.00519357, 0.00659313, 0.00639968,\n",
       "        0.00499716, 0.00619521, 0.00619841, 0.00660434, 0.00620418,\n",
       "        0.00576863, 0.00583611, 0.00559411, 0.00500784, 0.00719643,\n",
       "        0.00639744, 0.00617766, 0.00519757, 0.00600176, 0.0055984 ,\n",
       "        0.00547142, 0.00600219, 0.00680094, 0.0072082 , 0.00599756,\n",
       "        0.00601282, 0.00659595, 0.0069972 , 0.0058033 , 0.00619922,\n",
       "        0.00654321]),\n",
       " 'std_score_time': array([4.86263436e-04, 1.35172303e-03, 1.49177411e-03, 7.43698419e-04,\n",
       "        1.09647145e-03, 1.49547132e-03, 7.48752955e-04, 7.48918968e-04,\n",
       "        1.01800219e-03, 1.49311698e-03, 8.99694551e-07, 1.46710217e-03,\n",
       "        1.93718068e-03, 7.95513715e-04, 7.55536498e-04, 1.01420828e-03,\n",
       "        1.45041973e-03, 1.01412867e-03, 8.76732255e-06, 2.85517586e-03,\n",
       "        1.49619154e-03, 1.42037213e-03, 3.89057437e-04, 6.16193146e-04,\n",
       "        8.01552478e-04, 4.43828987e-04, 8.88572361e-04, 1.46643156e-03,\n",
       "        1.48098993e-03, 1.09475644e-03, 1.99071891e-03, 7.98672015e-04,\n",
       "        3.03082400e-03, 7.43428667e-04, 7.47857733e-04, 1.84327220e-03]),\n",
       " 'param_alpha': masked_array(data=[0.0001, 0.0001, 0.0001, 0.0001, 0.0001, 0.0001, 0.001,\n",
       "                    0.001, 0.001, 0.001, 0.001, 0.001, 0.01, 0.01, 0.01,\n",
       "                    0.01, 0.01, 0.01, 0.1, 0.1, 0.1, 0.1, 0.1, 0.1, 1, 1,\n",
       "                    1, 1, 1, 1, 10, 10, 10, 10, 10, 10],\n",
       "              mask=[False, False, False, False, False, False, False, False,\n",
       "                    False, False, False, False, False, False, False, False,\n",
       "                    False, False, False, False, False, False, False, False,\n",
       "                    False, False, False, False, False, False, False, False,\n",
       "                    False, False, False, False],\n",
       "        fill_value='?',\n",
       "             dtype=object),\n",
       " 'param_max_iter': masked_array(data=[500, 500, 1000, 1000, 1500, 1500, 500, 500, 1000, 1000,\n",
       "                    1500, 1500, 500, 500, 1000, 1000, 1500, 1500, 500, 500,\n",
       "                    1000, 1000, 1500, 1500, 500, 500, 1000, 1000, 1500,\n",
       "                    1500, 500, 500, 1000, 1000, 1500, 1500],\n",
       "              mask=[False, False, False, False, False, False, False, False,\n",
       "                    False, False, False, False, False, False, False, False,\n",
       "                    False, False, False, False, False, False, False, False,\n",
       "                    False, False, False, False, False, False, False, False,\n",
       "                    False, False, False, False],\n",
       "        fill_value='?',\n",
       "             dtype=object),\n",
       " 'param_penalty': masked_array(data=['l1', 'l2', 'l1', 'l2', 'l1', 'l2', 'l1', 'l2', 'l1',\n",
       "                    'l2', 'l1', 'l2', 'l1', 'l2', 'l1', 'l2', 'l1', 'l2',\n",
       "                    'l1', 'l2', 'l1', 'l2', 'l1', 'l2', 'l1', 'l2', 'l1',\n",
       "                    'l2', 'l1', 'l2', 'l1', 'l2', 'l1', 'l2', 'l1', 'l2'],\n",
       "              mask=[False, False, False, False, False, False, False, False,\n",
       "                    False, False, False, False, False, False, False, False,\n",
       "                    False, False, False, False, False, False, False, False,\n",
       "                    False, False, False, False, False, False, False, False,\n",
       "                    False, False, False, False],\n",
       "        fill_value='?',\n",
       "             dtype=object),\n",
       " 'params': [{'alpha': 0.0001, 'max_iter': 500, 'penalty': 'l1'},\n",
       "  {'alpha': 0.0001, 'max_iter': 500, 'penalty': 'l2'},\n",
       "  {'alpha': 0.0001, 'max_iter': 1000, 'penalty': 'l1'},\n",
       "  {'alpha': 0.0001, 'max_iter': 1000, 'penalty': 'l2'},\n",
       "  {'alpha': 0.0001, 'max_iter': 1500, 'penalty': 'l1'},\n",
       "  {'alpha': 0.0001, 'max_iter': 1500, 'penalty': 'l2'},\n",
       "  {'alpha': 0.001, 'max_iter': 500, 'penalty': 'l1'},\n",
       "  {'alpha': 0.001, 'max_iter': 500, 'penalty': 'l2'},\n",
       "  {'alpha': 0.001, 'max_iter': 1000, 'penalty': 'l1'},\n",
       "  {'alpha': 0.001, 'max_iter': 1000, 'penalty': 'l2'},\n",
       "  {'alpha': 0.001, 'max_iter': 1500, 'penalty': 'l1'},\n",
       "  {'alpha': 0.001, 'max_iter': 1500, 'penalty': 'l2'},\n",
       "  {'alpha': 0.01, 'max_iter': 500, 'penalty': 'l1'},\n",
       "  {'alpha': 0.01, 'max_iter': 500, 'penalty': 'l2'},\n",
       "  {'alpha': 0.01, 'max_iter': 1000, 'penalty': 'l1'},\n",
       "  {'alpha': 0.01, 'max_iter': 1000, 'penalty': 'l2'},\n",
       "  {'alpha': 0.01, 'max_iter': 1500, 'penalty': 'l1'},\n",
       "  {'alpha': 0.01, 'max_iter': 1500, 'penalty': 'l2'},\n",
       "  {'alpha': 0.1, 'max_iter': 500, 'penalty': 'l1'},\n",
       "  {'alpha': 0.1, 'max_iter': 500, 'penalty': 'l2'},\n",
       "  {'alpha': 0.1, 'max_iter': 1000, 'penalty': 'l1'},\n",
       "  {'alpha': 0.1, 'max_iter': 1000, 'penalty': 'l2'},\n",
       "  {'alpha': 0.1, 'max_iter': 1500, 'penalty': 'l1'},\n",
       "  {'alpha': 0.1, 'max_iter': 1500, 'penalty': 'l2'},\n",
       "  {'alpha': 1, 'max_iter': 500, 'penalty': 'l1'},\n",
       "  {'alpha': 1, 'max_iter': 500, 'penalty': 'l2'},\n",
       "  {'alpha': 1, 'max_iter': 1000, 'penalty': 'l1'},\n",
       "  {'alpha': 1, 'max_iter': 1000, 'penalty': 'l2'},\n",
       "  {'alpha': 1, 'max_iter': 1500, 'penalty': 'l1'},\n",
       "  {'alpha': 1, 'max_iter': 1500, 'penalty': 'l2'},\n",
       "  {'alpha': 10, 'max_iter': 500, 'penalty': 'l1'},\n",
       "  {'alpha': 10, 'max_iter': 500, 'penalty': 'l2'},\n",
       "  {'alpha': 10, 'max_iter': 1000, 'penalty': 'l1'},\n",
       "  {'alpha': 10, 'max_iter': 1000, 'penalty': 'l2'},\n",
       "  {'alpha': 10, 'max_iter': 1500, 'penalty': 'l1'},\n",
       "  {'alpha': 10, 'max_iter': 1500, 'penalty': 'l2'}],\n",
       " 'split0_test_score': array([ 2.80765541e-02,  2.80588036e-02,  2.82612557e-02,  2.78910909e-02,\n",
       "         2.79706402e-02,  2.81504700e-02,  2.79987634e-02,  2.79420400e-02,\n",
       "         2.82920433e-02,  2.77543083e-02,  2.82792911e-02,  2.81653763e-02,\n",
       "         2.80518319e-02,  2.80775313e-02,  2.78396850e-02,  2.80237894e-02,\n",
       "         2.79339810e-02,  2.82720560e-02,  2.80508208e-02,  2.80836166e-02,\n",
       "         2.82168787e-02,  2.75221842e-02,  2.82889746e-02,  2.76320769e-02,\n",
       "         2.71097107e-02,  1.94600928e-02,  2.81674629e-02,  2.03075056e-02,\n",
       "         2.75646978e-02,  1.89034189e-02, -2.19733057e-04,  4.91105934e-03,\n",
       "        -7.13826043e-06,  2.72552556e-03, -7.39339951e-05,  4.81745255e-03]),\n",
       " 'split1_test_score': array([ 3.11096180e-02,  3.21519523e-02,  3.18080855e-02,  3.24117920e-02,\n",
       "         3.23519056e-02,  3.22733875e-02,  3.24074380e-02,  3.10601400e-02,\n",
       "         3.24462864e-02,  2.97841581e-02,  3.24533988e-02,  3.21961552e-02,\n",
       "         3.20622734e-02,  3.22257814e-02,  3.19678590e-02,  3.20862136e-02,\n",
       "         3.14884273e-02,  3.23950126e-02,  3.21326063e-02,  3.16592635e-02,\n",
       "         3.16615070e-02,  3.19014800e-02,  3.22312282e-02,  3.15825333e-02,\n",
       "         3.15724887e-02,  2.46649686e-02,  3.11614005e-02,  2.43749283e-02,\n",
       "         3.07395340e-02,  2.38884808e-02, -3.74077077e-04,  5.15105713e-03,\n",
       "        -1.99536929e-08,  4.94497873e-03, -2.21852606e-04,  6.05565892e-03]),\n",
       " 'split2_test_score': array([ 2.82908925e-02,  2.83980468e-02,  2.83484028e-02,  2.81281813e-02,\n",
       "         2.82764944e-02,  2.83621752e-02,  2.76659132e-02,  2.83619451e-02,\n",
       "         2.79332018e-02,  2.83132668e-02,  2.83707927e-02,  2.82308415e-02,\n",
       "         2.82290770e-02,  2.84457501e-02,  2.82177898e-02,  2.82812325e-02,\n",
       "         2.81854139e-02,  2.84399872e-02,  2.82236610e-02,  2.81210146e-02,\n",
       "         2.83536660e-02,  2.82697155e-02,  2.83067827e-02,  2.79577642e-02,\n",
       "         2.83899446e-02,  2.26304236e-02,  2.76628607e-02,  1.99718361e-02,\n",
       "         2.82945712e-02,  1.86938367e-02, -1.91255795e-04,  5.06168732e-03,\n",
       "        -5.90906607e-05,  3.35778547e-03, -1.48076581e-06,  4.52156929e-03]),\n",
       " 'split3_test_score': array([ 2.65385400e-02,  2.64562641e-02,  2.65613064e-02,  2.66373577e-02,\n",
       "         2.66250658e-02,  2.65426304e-02,  2.66249523e-02,  2.64913643e-02,\n",
       "         2.64338277e-02,  2.65084514e-02,  2.65058159e-02,  2.66183966e-02,\n",
       "         2.66334351e-02,  2.63907039e-02,  2.64057789e-02,  2.65854496e-02,\n",
       "         2.62514149e-02,  2.56512749e-02,  2.66138425e-02,  2.61748618e-02,\n",
       "         2.66031955e-02,  2.65776157e-02,  2.66132891e-02,  2.58788505e-02,\n",
       "         2.63707220e-02,  1.92773351e-02,  2.58524250e-02,  1.97357663e-02,\n",
       "         2.58593695e-02,  2.18919378e-02, -4.22626952e-04,  3.84690948e-03,\n",
       "        -2.54321347e-05,  4.15675408e-03, -6.75166509e-05,  7.07974082e-03]),\n",
       " 'split4_test_score': array([ 2.91395820e-02,  2.93480623e-02,  2.80577887e-02,  2.88635700e-02,\n",
       "         2.89861967e-02,  2.92391862e-02,  2.92113686e-02,  2.91058565e-02,\n",
       "         2.92766987e-02,  2.84194790e-02,  2.91785568e-02,  2.91396242e-02,\n",
       "         2.90857394e-02,  2.93545868e-02,  2.93072105e-02,  2.88924441e-02,\n",
       "         2.90412075e-02,  2.82280765e-02,  2.93126045e-02,  2.83085226e-02,\n",
       "         2.91240572e-02,  2.88247451e-02,  2.92834315e-02,  2.87959072e-02,\n",
       "         2.93028562e-02,  2.16673855e-02,  2.92632134e-02,  2.24529113e-02,\n",
       "         2.89740632e-02,  2.25080597e-02, -1.35325416e-04,  3.68914070e-03,\n",
       "        -2.54585026e-06,  4.87712944e-03, -1.58961841e-04,  4.77386679e-03]),\n",
       " 'mean_test_score': array([ 2.86310373e-02,  2.88826258e-02,  2.86073678e-02,  2.87863984e-02,\n",
       "         2.88420605e-02,  2.89135699e-02,  2.87816871e-02,  2.85922692e-02,\n",
       "         2.88764116e-02,  2.81559327e-02,  2.89575711e-02,  2.88700788e-02,\n",
       "         2.88124714e-02,  2.88988707e-02,  2.87476646e-02,  2.87738258e-02,\n",
       "         2.85800889e-02,  2.85972814e-02,  2.88667070e-02,  2.84694558e-02,\n",
       "         2.87918609e-02,  2.86191481e-02,  2.89447412e-02,  2.83694264e-02,\n",
       "         2.85491444e-02,  2.15400411e-02,  2.84214725e-02,  2.13685895e-02,\n",
       "         2.82864472e-02,  2.11771468e-02, -2.68603659e-04,  4.53197079e-03,\n",
       "        -1.88453719e-05,  4.01243466e-03, -1.04749172e-04,  5.44965767e-03]),\n",
       " 'std_test_score': array([1.49690848e-03, 1.88180009e-03, 1.72741742e-03, 1.94949407e-03,\n",
       "        1.91489381e-03, 1.89220042e-03, 1.99199003e-03, 1.49958708e-03,\n",
       "        2.00507272e-03, 1.06026652e-03, 1.95372067e-03, 1.84990493e-03,\n",
       "        1.80571366e-03, 1.92077223e-03, 1.85862134e-03, 1.82099844e-03,\n",
       "        1.71271765e-03, 2.16187611e-03, 1.84496610e-03, 1.77404720e-03,\n",
       "        1.65276123e-03, 1.80605983e-03, 1.85409805e-03, 1.86665799e-03,\n",
       "        1.81942465e-03, 2.02071005e-03, 1.75816671e-03, 1.78643540e-03,\n",
       "        1.60637139e-03, 2.04793821e-03, 1.10437253e-04, 6.30435909e-04,\n",
       "        2.20008906e-05, 8.62886342e-04, 7.70096450e-05, 9.73871991e-04]),\n",
       " 'rank_test_score': array([16,  5, 18, 12,  9,  3, 13, 20,  6, 27,  1,  7, 10,  4, 15, 14, 21,\n",
       "        19,  8, 23, 11, 17,  2, 25, 22, 28, 24, 29, 26, 30, 36, 32, 34, 33,\n",
       "        35, 31])}"
      ]
     },
     "execution_count": 49,
     "metadata": {},
     "output_type": "execute_result"
    }
   ],
   "source": [
    "grid = GridSearchCV(SGDRegressor(), param_grid, cv=5)\n",
    "\n",
    "grid.fit(x_train, y_train)\n",
    "grid.cv_results_"
   ]
  },
  {
   "cell_type": "code",
   "execution_count": 2,
   "metadata": {
    "collapsed": true
   },
   "outputs": [
    {
     "ename": "NameError",
     "evalue": "name 'pd' is not defined",
     "output_type": "error",
     "traceback": [
      "\u001b[1;31m---------------------------------------------------------------------------\u001b[0m",
      "\u001b[1;31mNameError\u001b[0m                                 Traceback (most recent call last)",
      "\u001b[1;32m<ipython-input-2-257d679356fe>\u001b[0m in \u001b[0;36m<module>\u001b[1;34m\u001b[0m\n\u001b[1;32m----> 1\u001b[1;33m \u001b[0mdf_results\u001b[0m \u001b[1;33m=\u001b[0m \u001b[0mpd\u001b[0m\u001b[1;33m.\u001b[0m\u001b[0mDataFrame\u001b[0m\u001b[1;33m(\u001b[0m\u001b[0mgrid\u001b[0m\u001b[1;33m.\u001b[0m\u001b[0mcv_results_\u001b[0m\u001b[1;33m)\u001b[0m\u001b[1;33m\u001b[0m\u001b[1;33m\u001b[0m\u001b[0m\n\u001b[0m\u001b[0;32m      2\u001b[0m \u001b[0mdf_results\u001b[0m\u001b[1;33m\u001b[0m\u001b[1;33m\u001b[0m\u001b[0m\n\u001b[0;32m      3\u001b[0m \u001b[1;33m\u001b[0m\u001b[0m\n\u001b[0;32m      4\u001b[0m \u001b[1;31m#\u001b[0m\u001b[1;33m\u001b[0m\u001b[1;33m\u001b[0m\u001b[1;33m\u001b[0m\u001b[0m\n",
      "\u001b[1;31mNameError\u001b[0m: name 'pd' is not defined"
     ]
    }
   ],
   "source": [
    "df_results = pd.DataFrame(grid.cv_results_)\n",
    "df_results\n",
    "\n",
    "#'alpha': 0.001, 'max_iter': 1500, 'penalty': 'l1'"
   ]
  },
  {
   "cell_type": "code",
   "execution_count": 3,
   "metadata": {
    "collapsed": true
   },
   "outputs": [
    {
     "ename": "NameError",
     "evalue": "name 'SGDRegressor' is not defined",
     "output_type": "error",
     "traceback": [
      "\u001b[1;31m---------------------------------------------------------------------------\u001b[0m",
      "\u001b[1;31mNameError\u001b[0m                                 Traceback (most recent call last)",
      "\u001b[1;32m<ipython-input-3-b067b7e9dfe3>\u001b[0m in \u001b[0;36m<module>\u001b[1;34m\u001b[0m\n\u001b[1;32m----> 1\u001b[1;33m \u001b[0mestimator_cv\u001b[0m \u001b[1;33m=\u001b[0m \u001b[0mSGDRegressor\u001b[0m\u001b[1;33m(\u001b[0m\u001b[0mpenalty\u001b[0m\u001b[1;33m=\u001b[0m\u001b[1;34m'l1'\u001b[0m\u001b[1;33m,\u001b[0m \u001b[0malpha\u001b[0m\u001b[1;33m=\u001b[0m\u001b[1;36m0.001\u001b[0m\u001b[1;33m,\u001b[0m \u001b[0mmax_iter\u001b[0m\u001b[1;33m=\u001b[0m\u001b[1;36m1500\u001b[0m\u001b[1;33m)\u001b[0m\u001b[1;33m\u001b[0m\u001b[1;33m\u001b[0m\u001b[0m\n\u001b[0m\u001b[0;32m      2\u001b[0m \u001b[0mret_SGD_cv\u001b[0m \u001b[1;33m=\u001b[0m \u001b[0mestimator_cv\u001b[0m\u001b[1;33m.\u001b[0m\u001b[0mfit\u001b[0m\u001b[1;33m(\u001b[0m\u001b[0mx_train\u001b[0m\u001b[1;33m,\u001b[0m\u001b[0my_train\u001b[0m\u001b[1;33m)\u001b[0m\u001b[1;33m\u001b[0m\u001b[1;33m\u001b[0m\u001b[0m\n",
      "\u001b[1;31mNameError\u001b[0m: name 'SGDRegressor' is not defined"
     ]
    }
   ],
   "source": [
    "estimator_cv = SGDRegressor(penalty='l1', alpha=0.001, max_iter=1500)\n",
    "ret_SGD_cv = estimator_cv.fit(x_train,y_train)"
   ]
  },
  {
   "cell_type": "code",
   "execution_count": 131,
   "metadata": {},
   "outputs": [],
   "source": [
    "y_pre_SGD_cv = estimator_cv.predict(x_test)"
   ]
  },
  {
   "cell_type": "code",
   "execution_count": 132,
   "metadata": {},
   "outputs": [
    {
     "name": "stdout",
     "output_type": "stream",
     "text": [
      "2796.380323878719\n"
     ]
    }
   ],
   "source": [
    "error_SGD_cv=mean_squared_error(y_test, y_pre_SGD_cv)\n",
    "print(error_SGD_cv)"
   ]
  },
  {
   "cell_type": "code",
   "execution_count": null,
   "metadata": {},
   "outputs": [],
   "source": []
  },
  {
   "cell_type": "code",
   "execution_count": null,
   "metadata": {},
   "outputs": [],
   "source": []
  },
  {
   "cell_type": "code",
   "execution_count": null,
   "metadata": {},
   "outputs": [],
   "source": []
  }
 ],
 "metadata": {
  "kernelspec": {
   "display_name": "Python 3",
   "language": "python",
   "name": "python3"
  },
  "language_info": {
   "codemirror_mode": {
    "name": "ipython",
    "version": 3
   },
   "file_extension": ".py",
   "mimetype": "text/x-python",
   "name": "python",
   "nbconvert_exporter": "python",
   "pygments_lexer": "ipython3",
   "version": "3.7.4"
  }
 },
 "nbformat": 4,
 "nbformat_minor": 4
}
